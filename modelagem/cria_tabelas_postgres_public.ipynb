{
 "cells": [
  {
   "cell_type": "code",
   "execution_count": 0,
   "metadata": {
    "application/vnd.databricks.v1+cell": {
     "cellMetadata": {
      "byteLimit": 2048000,
      "implicitDf": true,
      "rowLimit": 10000
     },
     "inputWidgets": {},
     "nuid": "d60de6de-fdfd-4dbb-8c79-c189fad9b8c1",
     "showTitle": false,
     "tableResultSettingsMap": {},
     "title": ""
    }
   },
   "outputs": [],
   "source": [
    "%sql\n",
    "-- Cria o schema caso não exista\n",
    "CREATE SCHEMA IF NOT EXISTS lakehouse_imersao_jornada.postgres_public;\n",
    "\n",
    "-- ======================\n",
    "-- 1️⃣ Tabela CUSTOMERS\n",
    "-- ======================\n",
    "CREATE TABLE IF NOT EXISTS lakehouse_imersao_jornada.postgres_public.customers (\n",
    "    customer_id STRING,\n",
    "    customer_name STRING,\n",
    "    documento STRING,\n",
    "    segmento STRING,\n",
    "    pais STRING,\n",
    "    estado STRING,\n",
    "    cidade STRING,\n",
    "    created_at TIMESTAMP\n",
    ")\n",
    "USING DELTA\n",
    "COMMENT 'Tabela de clientes simulados (fonte Supabase - schema público ERP)';\n",
    "\n",
    "-- ======================\n",
    "-- 2️⃣ Tabela SALES_BTC\n",
    "-- ======================\n",
    "CREATE TABLE IF NOT EXISTS lakehouse_imersao_jornada.postgres_public.sales_btc (\n",
    "    transaction_id STRING,\n",
    "    data_hora TIMESTAMP,\n",
    "    ativo STRING,\n",
    "    quantidade DECIMAL(10,4),\n",
    "    tipo_operacao STRING,\n",
    "    moeda STRING,\n",
    "    cliente_id STRING,\n",
    "    canal STRING,\n",
    "    mercado STRING,\n",
    "    arquivo_origem STRING,\n",
    "    importado_em TIMESTAMP\n",
    ")\n",
    "USING DELTA\n",
    "COMMENT 'Transações simuladas de Bitcoin (fonte Supabase - schema público ERP)';\n",
    "\n",
    "-- ======================\n",
    "-- 3️⃣ Tabela SALES_COMMODITIES\n",
    "-- ======================\n",
    "CREATE TABLE IF NOT EXISTS lakehouse_imersao_jornada.postgres_public.sales_commodities (\n",
    "    transaction_id STRING,\n",
    "    data_hora TIMESTAMP,\n",
    "    commodity_code STRING,\n",
    "    quantidade DECIMAL(10,4),\n",
    "    tipo_operacao STRING,\n",
    "    unidade STRING,\n",
    "    moeda STRING,\n",
    "    cliente_id STRING,\n",
    "    canal STRING,\n",
    "    mercado STRING,\n",
    "    arquivo_origem STRING,\n",
    "    importado_em TIMESTAMP\n",
    ")\n",
    "USING DELTA\n",
    "COMMENT 'Transações simuladas de commodities (fonte Supabase - schema público ERP)';\n"
   ]
  }
 ],
 "metadata": {
  "application/vnd.databricks.v1+notebook": {
   "computePreferences": null,
   "dashboards": [],
   "environmentMetadata": {
    "base_environment": "",
    "environment_version": "4"
   },
   "inputWidgetPreferences": null,
   "language": "python",
   "notebookMetadata": {
    "mostRecentlyExecutedCommandWithImplicitDF": {
     "commandId": 6887223242912081,
     "dataframes": [
      "_sqldf"
     ]
    },
    "pythonIndentUnit": 4
   },
   "notebookName": "cria_tabelas_postgres_public",
   "widgets": {}
  },
  "language_info": {
   "name": "python"
  }
 },
 "nbformat": 4,
 "nbformat_minor": 0
}

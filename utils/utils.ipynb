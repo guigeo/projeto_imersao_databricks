{
 "cells": [
  {
   "cell_type": "code",
   "execution_count": 0,
   "metadata": {
    "application/vnd.databricks.v1+cell": {
     "cellMetadata": {
      "byteLimit": 2048000,
      "implicitDf": true,
      "rowLimit": 10000
     },
     "inputWidgets": {},
     "nuid": "26e3262a-25bb-4ce0-ab9f-2eacdcecfa81",
     "showTitle": false,
     "tableResultSettingsMap": {},
     "title": ""
    }
   },
   "outputs": [],
   "source": [
    "%sql\n",
    "-- 1 Cria o catálogo principal (onde toda a plataforma de dados será organizada)\n",
    "CREATE CATALOG IF NOT EXISTS lakehouse_imersao_jornada\n",
    "COMMENT \"Catálogo principal do projeto, com camadas de dados governadas via Unity Catalog\";\n",
    "-- 2 Cria as quatro camadas da arquitetura de dados\n",
    "CREATE SCHEMA IF NOT EXISTS lakehouse_imersao_jornada.raw\n",
    "COMMENT \"Camada RAW - dados brutos, como chegam das fontes (SQL, API, planilhas)\";\n",
    "CREATE VOLUME IF NOT EXISTS lakehouse_imersao_jornada.raw.coinbase;\n",
    "CREATE VOLUME IF NOT EXISTS lakehouse_imersao_jornada.raw.yfinance;\n",
    "\n",
    "CREATE SCHEMA IF NOT EXISTS lakehouse_imersao_jornada.bronze\n",
    "COMMENT \"Camada BRONZE - dados padronizados, com metadados e controle de ingestão\";\n",
    "\n",
    "CREATE SCHEMA IF NOT EXISTS lakehouse_imersao_jornada.silver\n",
    "COMMENT \"Camada SILVER - dados tratados, com regras de negócio aplicadas\";\n",
    "\n",
    "CREATE SCHEMA IF NOT EXISTS lakehlakehouse_imersao_jornadaouse.gold\n",
    "COMMENT \"Camada GOLD - dados analíticos e métricas finais para BI e IA\";\n"
   ]
  },
  {
   "cell_type": "code",
   "execution_count": 0,
   "metadata": {
    "application/vnd.databricks.v1+cell": {
     "cellMetadata": {
      "byteLimit": 2048000,
      "implicitDf": true,
      "rowLimit": 10000
     },
     "inputWidgets": {},
     "nuid": "c75a895b-458e-4c73-9ea8-204488f71152",
     "showTitle": false,
     "tableResultSettingsMap": {},
     "title": ""
    }
   },
   "outputs": [],
   "source": [
    "%sql\n",
    "-- 3 (opcional) Verifica se tudo foi criado corretamente\n",
    "SHOW SCHEMAS IN lakehouse_imersao_jornada;\n"
   ]
  },
  {
   "cell_type": "code",
   "execution_count": 0,
   "metadata": {
    "application/vnd.databricks.v1+cell": {
     "cellMetadata": {
      "byteLimit": 2048000,
      "implicitDf": true,
      "rowLimit": 10000
     },
     "inputWidgets": {},
     "nuid": "01913686-24d3-4509-93da-55e4ab359c0c",
     "showTitle": false,
     "tableResultSettingsMap": {},
     "title": ""
    }
   },
   "outputs": [],
   "source": [
    "%sql\n",
    "-- 2) Permissões (um GRANT por principal)\n",
    "\n",
    "-- Catálogo\n",
    "GRANT USE CATALOG ON CATALOG lakehouse_imersao_jornada TO data_engineers;\n",
    "GRANT USE CATALOG ON CATALOG lakehouse_imersao_jornada TO data_analysts;\n",
    "GRANT USE CATALOG ON CATALOG lakehouse_imersao_jornada TO data_scientists;\n",
    "GRANT USE CATALOG ON CATALOG lakehouse_imersao_jornada TO business_users;\n",
    "\n",
    "-- RAW (restrito a engenheiros)\n",
    "GRANT USE SCHEMA ON SCHEMA lakehouse_imersao_jornada.raw TO data_engineers;\n",
    "-- GRANT SELECT ON ALL TABLES IN SCHEMA lakehouse_imersao_jornada.raw TO data_engineers;\n",
    "\n",
    "-- BRONZE (eng: criar/modificar; analistas: leitura)\n",
    "GRANT USE SCHEMA ON SCHEMA lakehouse_imersao_jornada.bronze TO data_engineers;\n",
    "GRANT USE SCHEMA ON SCHEMA lakehouse_imersao_jornada.bronze TO data_analysts;\n",
    "-- GRANT SELECT ON ALL TABLES IN SCHEMA lakehouse_imersao_jornada.bronze TO data_analysts;\n",
    "\n",
    "-- SILVER (leitura p/ times técnicos)\n",
    "GRANT USE SCHEMA ON SCHEMA lakehouse_imersao_jornada.silver TO data_engineers;\n",
    "GRANT USE SCHEMA ON SCHEMA lakehouse_imersao_jornada.silver TO data_analysts;\n",
    "GRANT USE SCHEMA ON SCHEMA lakehouse_imersao_jornada.silver TO data_scientists;\n",
    "-- GRANT SELECT ON ALL TABLES IN SCHEMA lakehouse_imersao_jornada.silver TO data_engineers;\n",
    "-- GRANT SELECT ON ALL TABLES IN SCHEMA lakehouse_imersao_jornada.silver TO data_analysts;\n",
    "-- GRANT SELECT ON ALL TABLES IN SCHEMA lakehouse_imersao_jornada.silver TO data_scientists;\n",
    "\n",
    "-- GOLD (leitura ampla, incluindo negócio)\n",
    "GRANT USE SCHEMA ON SCHEMA lakehouse_imersao_jornada.gold TO data_engineers;\n",
    "GRANT USE SCHEMA ON SCHEMA lakehouse_imersao_jornada.gold TO data_analysts;\n",
    "GRANT USE SCHEMA ON SCHEMA lakehouse_imersao_jornada.gold TO data_scientists;\n",
    "GRANT USE SCHEMA ON SCHEMA lakehouse_imersao_jornada.gold TO business_users;\n",
    "-- GRANT SELECT ON ALL TABLES IN SCHEMA lakehouse_imersao_jornada.gold TO data_engineers;\n",
    "-- GRANT SELECT ON ALL TABLES IN SCHEMA lakehouse_imersao_jornada.gold TO data_analysts;\n",
    "-- GRANT SELECT ON ALL TABLES IN SCHEMA lakehouse_imersao_jornada.gold TO data_scientists;\n",
    "-- GRANT SELECT ON ALL TABLES IN SCHEMA lakehouse_imersao_jornada.gold TO business_users;\n",
    "\n"
   ]
  },
  {
   "cell_type": "code",
   "execution_count": 0,
   "metadata": {
    "application/vnd.databricks.v1+cell": {
     "cellMetadata": {},
     "inputWidgets": {},
     "nuid": "aeb56beb-2684-4306-888c-fc8b9edddd67",
     "showTitle": false,
     "tableResultSettingsMap": {},
     "title": ""
    }
   },
   "outputs": [],
   "source": []
  }
 ],
 "metadata": {
  "application/vnd.databricks.v1+notebook": {
   "computePreferences": {
    "hardware": {
     "accelerator": null,
     "gpuPoolId": null,
     "memory": null
    }
   },
   "dashboards": [],
   "environmentMetadata": {
    "base_environment": "",
    "environment_version": "4"
   },
   "inputWidgetPreferences": null,
   "language": "python",
   "notebookMetadata": {
    "mostRecentlyExecutedCommandWithImplicitDF": {
     "commandId": 4517871521531082,
     "dataframes": [
      "_sqldf"
     ]
    },
    "pythonIndentUnit": 4
   },
   "notebookName": "utils",
   "widgets": {}
  },
  "language_info": {
   "name": "python"
  }
 },
 "nbformat": 4,
 "nbformat_minor": 0
}
